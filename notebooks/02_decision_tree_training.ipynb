{
 "cells": [
  {
   "cell_type": "code",
   "execution_count": 1,
   "metadata": {},
   "outputs": [],
   "source": [
    "from PIL import Image\n",
    "import numpy as np\n",
    "import pandas as pd\n",
    "from sklearn.tree import DecisionTreeClassifier, plot_tree\n",
    "import matplotlib.pyplot as plt\n"
   ]
  },
  {
   "cell_type": "code",
   "execution_count": 2,
   "metadata": {},
   "outputs": [
    {
     "name": "stdout",
     "output_type": "stream",
     "text": [
      "\n",
      "Sample flattened image from 'data': [248 248 248 248 248 248 247 247 247 247]\n",
      "\n",
      "Sample flattened image from 'train': [252 252 252 255 255 255 248 248 248 250]\n",
      "\n",
      "Sample flattened image from 'test': [245 245 245 245 245 245 244 244 244 243]\n"
     ]
    }
   ],
   "source": [
    "data = pd.read_csv(\"../data/datasets/data.csv\")\n",
    "train = pd.read_csv(\"../data/datasets/train.csv\")\n",
    "test = pd.read_csv(\"../data/datasets/test.csv\")\n",
    "\n",
    "def transform(X):\n",
    "    img = np.array(Image.open(f\"../data/datasets/samples/{X['filename']}\"))\n",
    "    flattened_img = img.flatten()\n",
    "    return flattened_img\n",
    "\n",
    "# Apply to each DataFrame and store the flattened images\n",
    "data['flattened_image'] = data.apply(transform, axis=1)\n",
    "train['flattened_image'] = train.apply(transform, axis=1)\n",
    "test['flattened_image'] = test.apply(transform, axis=1)\n",
    "\n",
    "print(\"\\nSample flattened image from 'data':\", data['flattened_image'][0][:10])  # First 10 pixels\n",
    "print(\"\\nSample flattened image from 'train':\", train['flattened_image'][0][:10])\n",
    "print(\"\\nSample flattened image from 'test':\", test['flattened_image'][0][:10])"
   ]
  },
  {
   "cell_type": "code",
   "execution_count": 3,
   "metadata": {},
   "outputs": [
    {
     "name": "stdout",
     "output_type": "stream",
     "text": [
      "\n",
      "--- Training Data ---\n",
      "X_train shape: (160, 2352)\n",
      "Sample X_train[0] (first 10 pixels): [252 252 252 255 255 255 248 248 248 250]\n",
      "y_train shape: (160,)\n",
      "Sample y_train values: [8 6 5 0 5]\n",
      "\n",
      "--- Test Data ---\n",
      "X_test shape: (40, 2352)\n",
      "Sample X_test[0] (first 10 pixels): [245 245 245 245 245 245 244 244 244 243]\n",
      "y_test shape: (40,)\n",
      "Sample y_test values: [1 2 5 6 1]\n"
     ]
    }
   ],
   "source": [
    "X_train = np.stack(train['flattened_image'].values)  # Convert list of arrays to a 2D numpy array\n",
    "y_train = train['label'].values\n",
    "\n",
    "X_test = np.stack(test['flattened_image'].values)\n",
    "y_test = test['label'].values\n",
    "print(\"\\n--- Training Data ---\")\n",
    "print(f\"X_train shape: {X_train.shape}\")  # (num_samples, flattened_image_length)\n",
    "print(f\"Sample X_train[0] (first 10 pixels): {X_train[0][:10]}\")  # First 10 pixels of first image\n",
    "print(f\"y_train shape: {y_train.shape}\")  # (num_samples,)\n",
    "print(f\"Sample y_train values: {y_train[:5]}\")  # First 5 labels\n",
    "\n",
    "print(\"\\n--- Test Data ---\")\n",
    "print(f\"X_test shape: {X_test.shape}\")  # (num_samples, flattened_image_length)\n",
    "print(f\"Sample X_test[0] (first 10 pixels): {X_test[0][:10]}\")  # First 10 pixels of first test image\n",
    "print(f\"y_test shape: {y_test.shape}\")  # (num_samples,)\n",
    "print(f\"Sample y_test values: {y_test[:5]}\")  # First 5 test labels"
   ]
  },
  {
   "cell_type": "code",
   "execution_count": 4,
   "metadata": {},
   "outputs": [
    {
     "name": "stdout",
     "output_type": "stream",
     "text": [
      "\n",
      "--- Dummy Classifier ---\n",
      "Accuracy: 0.1\n",
      "\n",
      "Classification Report:\n",
      "               precision    recall  f1-score   support\n",
      "\n",
      "           0       0.10      1.00      0.18         4\n",
      "           1       0.00      0.00      0.00         4\n",
      "           2       0.00      0.00      0.00         4\n",
      "           3       0.00      0.00      0.00         4\n",
      "           4       0.00      0.00      0.00         4\n",
      "           5       0.00      0.00      0.00         4\n",
      "           6       0.00      0.00      0.00         4\n",
      "           7       0.00      0.00      0.00         4\n",
      "           8       0.00      0.00      0.00         4\n",
      "           9       0.00      0.00      0.00         4\n",
      "\n",
      "    accuracy                           0.10        40\n",
      "   macro avg       0.01      0.10      0.02        40\n",
      "weighted avg       0.01      0.10      0.02        40\n",
      "\n"
     ]
    },
    {
     "name": "stderr",
     "output_type": "stream",
     "text": [
      "/home/udom/Desktop/projects/digits_classifier/myenv/lib/python3.13/site-packages/sklearn/metrics/_classification.py:1565: UndefinedMetricWarning: Precision is ill-defined and being set to 0.0 in labels with no predicted samples. Use `zero_division` parameter to control this behavior.\n",
      "  _warn_prf(average, modifier, f\"{metric.capitalize()} is\", len(result))\n",
      "/home/udom/Desktop/projects/digits_classifier/myenv/lib/python3.13/site-packages/sklearn/metrics/_classification.py:1565: UndefinedMetricWarning: Precision is ill-defined and being set to 0.0 in labels with no predicted samples. Use `zero_division` parameter to control this behavior.\n",
      "  _warn_prf(average, modifier, f\"{metric.capitalize()} is\", len(result))\n",
      "/home/udom/Desktop/projects/digits_classifier/myenv/lib/python3.13/site-packages/sklearn/metrics/_classification.py:1565: UndefinedMetricWarning: Precision is ill-defined and being set to 0.0 in labels with no predicted samples. Use `zero_division` parameter to control this behavior.\n",
      "  _warn_prf(average, modifier, f\"{metric.capitalize()} is\", len(result))\n"
     ]
    }
   ],
   "source": [
    "from sklearn.dummy import DummyClassifier\n",
    "from sklearn.metrics import accuracy_score, classification_report, confusion_matrix\n",
    "\n",
    "clf = DummyClassifier(strategy=\"most_frequent\")\n",
    "clf.fit(X_train, y_train)\n",
    "y_pred = clf.predict(X_test)\n",
    "print(\"\\n--- Dummy Classifier ---\")\n",
    "print(f\"Accuracy: {accuracy_score(y_test, y_pred)}\")\n",
    "print(\"\\nClassification Report:\\n\", classification_report(y_test, y_pred))"
   ]
  },
  {
   "cell_type": "code",
   "execution_count": 5,
   "metadata": {},
   "outputs": [
    {
     "name": "stdout",
     "output_type": "stream",
     "text": [
      "XGBoost Accuracy: 0.65\n",
      "              precision    recall  f1-score   support\n",
      "\n",
      "           0       0.67      0.50      0.57         4\n",
      "           1       0.40      0.50      0.44         4\n",
      "           2       0.40      0.50      0.44         4\n",
      "           3       0.50      0.50      0.50         4\n",
      "           4       0.80      1.00      0.89         4\n",
      "           5       1.00      0.50      0.67         4\n",
      "           6       0.75      0.75      0.75         4\n",
      "           7       0.67      0.50      0.57         4\n",
      "           8       1.00      0.75      0.86         4\n",
      "           9       0.67      1.00      0.80         4\n",
      "\n",
      "    accuracy                           0.65        40\n",
      "   macro avg       0.69      0.65      0.65        40\n",
      "weighted avg       0.69      0.65      0.65        40\n",
      "\n"
     ]
    }
   ],
   "source": [
    "from xgboost import XGBClassifier\n",
    "\n",
    "xgb = XGBClassifier(\n",
    "    n_estimators=200,\n",
    "    learning_rate=0.1,\n",
    "    max_depth=5,\n",
    "    random_state=0\n",
    ")\n",
    "xgb.fit(X_train, y_train)\n",
    "y_pred_xgb = xgb.predict(X_test)\n",
    "\n",
    "print(f\"XGBoost Accuracy: {accuracy_score(y_test, y_pred_xgb):.2f}\")\n",
    "print(classification_report(y_test, y_pred_xgb))"
   ]
  },
  {
   "cell_type": "code",
   "execution_count": 6,
   "metadata": {},
   "outputs": [
    {
     "name": "stdout",
     "output_type": "stream",
     "text": [
      "SVM Accuracy: 0.80\n",
      "              precision    recall  f1-score   support\n",
      "\n",
      "           0       0.60      0.75      0.67         4\n",
      "           1       0.75      0.75      0.75         4\n",
      "           2       0.75      0.75      0.75         4\n",
      "           3       0.75      0.75      0.75         4\n",
      "           4       0.57      1.00      0.73         4\n",
      "           5       1.00      0.50      0.67         4\n",
      "           6       1.00      1.00      1.00         4\n",
      "           7       1.00      0.50      0.67         4\n",
      "           8       1.00      1.00      1.00         4\n",
      "           9       1.00      1.00      1.00         4\n",
      "\n",
      "    accuracy                           0.80        40\n",
      "   macro avg       0.84      0.80      0.80        40\n",
      "weighted avg       0.84      0.80      0.80        40\n",
      "\n"
     ]
    }
   ],
   "source": [
    "from sklearn.svm import SVC\n",
    "\n",
    "svm = SVC(\n",
    "    kernel='rbf',\n",
    "    C=1.0,          # Regularization (try 0.1, 1, 10)\n",
    "    gamma='scale',   # Kernel coefficient (try 'auto', 0.1, 1)\n",
    "    random_state=0\n",
    ")\n",
    "svm.fit(X_train, y_train)\n",
    "y_pred_svm = svm.predict(X_test)\n",
    "\n",
    "print(f\"SVM Accuracy: {accuracy_score(y_test, y_pred_svm):.2f}\")\n",
    "print(classification_report(y_test, y_pred_svm))"
   ]
  },
  {
   "cell_type": "code",
   "execution_count": 7,
   "metadata": {},
   "outputs": [
    {
     "name": "stdout",
     "output_type": "stream",
     "text": [
      "\n",
      "--- Random Forest Classifier ---\n",
      "Accuracy: 0.78\n",
      "\n",
      "Classification Report:\n",
      "               precision    recall  f1-score   support\n",
      "\n",
      "           0       0.50      0.75      0.60         4\n",
      "           1       0.75      0.75      0.75         4\n",
      "           2       0.60      0.75      0.67         4\n",
      "           3       1.00      0.50      0.67         4\n",
      "           4       0.75      0.75      0.75         4\n",
      "           5       1.00      0.50      0.67         4\n",
      "           6       1.00      0.75      0.86         4\n",
      "           7       1.00      1.00      1.00         4\n",
      "           8       1.00      1.00      1.00         4\n",
      "           9       0.67      1.00      0.80         4\n",
      "\n",
      "    accuracy                           0.78        40\n",
      "   macro avg       0.83      0.78      0.78        40\n",
      "weighted avg       0.83      0.78      0.78        40\n",
      "\n"
     ]
    }
   ],
   "source": [
    "from sklearn.ensemble import RandomForestClassifier\n",
    "# from sklearn.metrics import accuracy_score, classification_report\n",
    "\n",
    "# Initialize and train the model\n",
    "rf_clf = RandomForestClassifier(\n",
    "    random_state=0     # For reproducibility\n",
    ")\n",
    "rf_clf.fit(X_train, y_train)\n",
    "\n",
    "# Predict and evaluate\n",
    "y_pred_rf = rf_clf.predict(X_test)\n",
    "\n",
    "print(\"\\n--- Random Forest Classifier ---\")\n",
    "print(f\"Accuracy: {accuracy_score(y_test, y_pred_rf):.2f}\")  # Prints 2 decimal places\n",
    "print(\"\\nClassification Report:\\n\", classification_report(y_test, y_pred_rf))"
   ]
  },
  {
   "cell_type": "code",
   "execution_count": 8,
   "metadata": {},
   "outputs": [
    {
     "name": "stdout",
     "output_type": "stream",
     "text": [
      "Stacking Accuracy: 0.75\n",
      "              precision    recall  f1-score   support\n",
      "\n",
      "           0       0.60      0.75      0.67         4\n",
      "           1       0.75      0.75      0.75         4\n",
      "           2       0.60      0.75      0.67         4\n",
      "           3       0.50      0.50      0.50         4\n",
      "           4       0.80      1.00      0.89         4\n",
      "           5       1.00      0.50      0.67         4\n",
      "           6       1.00      0.75      0.86         4\n",
      "           7       1.00      0.50      0.67         4\n",
      "           8       1.00      1.00      1.00         4\n",
      "           9       0.67      1.00      0.80         4\n",
      "\n",
      "    accuracy                           0.75        40\n",
      "   macro avg       0.79      0.75      0.75        40\n",
      "weighted avg       0.79      0.75      0.75        40\n",
      "\n"
     ]
    }
   ],
   "source": [
    "from sklearn.ensemble import StackingClassifier\n",
    "from sklearn.linear_model import LogisticRegression\n",
    "\n",
    "estimators = [\n",
    "    ('xgb', XGBClassifier(random_state=0)),\n",
    "    ('rf', RandomForestClassifier(random_state=0)),\n",
    "    ('svm', SVC(kernel='rbf', probability=True, random_state=0))\n",
    "]\n",
    "\n",
    "stack = StackingClassifier(\n",
    "    estimators=estimators,\n",
    "    final_estimator=LogisticRegression(),\n",
    "    cv=5\n",
    ")\n",
    "stack.fit(X_train, y_train)\n",
    "y_pred_stack = stack.predict(X_test)\n",
    "\n",
    "print(f\"Stacking Accuracy: {accuracy_score(y_test, y_pred_stack):.2f}\")\n",
    "print(classification_report(y_test, y_pred_stack))"
   ]
  },
  {
   "cell_type": "code",
   "execution_count": 9,
   "metadata": {},
   "outputs": [
    {
     "name": "stdout",
     "output_type": "stream",
     "text": [
      "\n",
      "--- Random Forest Classifier ---\n",
      "Accuracy: 0.45\n",
      "\n",
      "Classification Report:\n",
      "               precision    recall  f1-score   support\n",
      "\n",
      "           0       0.25      0.50      0.33         4\n",
      "           1       0.67      0.50      0.57         4\n",
      "           2       0.50      0.50      0.50         4\n",
      "           3       0.00      0.00      0.00         4\n",
      "           4       0.60      0.75      0.67         4\n",
      "           5       0.20      0.25      0.22         4\n",
      "           6       1.00      0.75      0.86         4\n",
      "           7       0.40      0.50      0.44         4\n",
      "           8       0.50      0.25      0.33         4\n",
      "           9       1.00      0.50      0.67         4\n",
      "\n",
      "    accuracy                           0.45        40\n",
      "   macro avg       0.51      0.45      0.46        40\n",
      "weighted avg       0.51      0.45      0.46        40\n",
      "\n"
     ]
    }
   ],
   "source": [
    "\n",
    "# Initialize and train the model\n",
    "dt_clf = DecisionTreeClassifier(\n",
    "    random_state=0\n",
    ")\n",
    "dt_clf.fit(X_train, y_train)\n",
    "\n",
    "# Predict and evaluate\n",
    "y_pred_rf = dt_clf.predict(X_test)\n",
    "\n",
    "print(\"\\n--- Random Forest Classifier ---\")\n",
    "print(f\"Accuracy: {accuracy_score(y_test, y_pred_rf):.2f}\")\n",
    "print(\"\\nClassification Report:\\n\", classification_report(y_test, y_pred_rf))"
   ]
  },
  {
   "cell_type": "markdown",
   "metadata": {},
   "source": [
    "# Hyperparameter Tuning & Cross Validation"
   ]
  },
  {
   "cell_type": "code",
   "execution_count": 10,
   "metadata": {},
   "outputs": [
    {
     "data": {
      "text/plain": [
       "(np.float64(0.4532440476190477), {'criterion': 'log_loss', 'max_depth': 5})"
      ]
     },
     "execution_count": 10,
     "metadata": {},
     "output_type": "execute_result"
    }
   ],
   "source": [
    "from sklearn.model_selection import GridSearchCV\n",
    "\n",
    "parameters = {'criterion':('gini', 'entropy', 'log_loss'), 'max_depth':[None, 5, 10, 20]}\n",
    "clf = DecisionTreeClassifier()\n",
    "clf = GridSearchCV(clf, parameters, cv=5, scoring='f1_weighted')\n",
    "clf.fit(X_train, y_train)\n",
    "clf.best_score_, clf.best_params_"
   ]
  },
  {
   "cell_type": "code",
   "execution_count": null,
   "metadata": {},
   "outputs": [
    {
     "name": "stdout",
     "output_type": "stream",
     "text": [
      "Best Parameters: {'C': 10, 'gamma': 'scale', 'kernel': 'rbf'}\n",
      "Best Cross-Val Accuracy: 0.87\n",
      "Test Accuracy: 0.90\n",
      "              precision    recall  f1-score   support\n",
      "\n",
      "           0       0.80      1.00      0.89         4\n",
      "           1       1.00      1.00      1.00         4\n",
      "           2       0.75      0.75      0.75         4\n",
      "           3       0.80      1.00      0.89         4\n",
      "           4       0.80      1.00      0.89         4\n",
      "           5       1.00      0.75      0.86         4\n",
      "           6       1.00      1.00      1.00         4\n",
      "           7       1.00      0.50      0.67         4\n",
      "           8       1.00      1.00      1.00         4\n",
      "           9       1.00      1.00      1.00         4\n",
      "\n",
      "    accuracy                           0.90        40\n",
      "   macro avg       0.92      0.90      0.89        40\n",
      "weighted avg       0.92      0.90      0.89        40\n",
      "\n"
     ]
    }
   ],
   "source": [
    "from sklearn.model_selection import GridSearchCV\n",
    "from sklearn.svm import SVC\n",
    "from sklearn.metrics import accuracy_score, classification_report\n",
    "\n",
    "# Define the parameter grid\n",
    "param_grid = {\n",
    "    'C': [0.1, 1, 10],                      # Regularization strength\n",
    "    'gamma': ['scale', 'auto', 0.1, 1],     # Kernel coefficient\n",
    "    'kernel': ['rbf']                       # Fixing to RBF kernel\n",
    "}\n",
    "\n",
    "# Create SVC model\n",
    "svc = SVC(random_state=0)\n",
    "\n",
    "# Grid search with 5-fold cross-validation\n",
    "grid_svc = GridSearchCV(\n",
    "    estimator=svc,\n",
    "    param_grid=param_grid,\n",
    "    scoring='accuracy',\n",
    "    cv=5,\n",
    "    n_jobs=-1\n",
    ")\n",
    "\n",
    "# Fit to training data\n",
    "grid_svc.fit(X_train, y_train)\n",
    "\n",
    "# Best parameters and score\n",
    "print(\"Best Parameters:\", grid_svc.best_params_)\n",
    "print(f\"Best Cross-Val Accuracy: {grid_svc.best_score_:.2f}\")\n",
    "\n",
    "# Predict using the best model\n",
    "y_pred_svm = grid_svc.predict(X_test)\n",
    "\n",
    "# Evaluation\n",
    "print(f\"Test Accuracy: {accuracy_score(y_test, y_pred_svm):.2f}\")\n",
    "print(classification_report(y_test, y_pred_svm))\n"
   ]
  },
  {
   "cell_type": "code",
   "execution_count": null,
   "metadata": {},
   "outputs": [
    {
     "name": "stdout",
     "output_type": "stream",
     "text": [
      "Best Parameters: {'C': 10, 'gamma': 'scale', 'kernel': 'rbf'}\n",
      "Best Cross-Val Accuracy: 0.87\n",
      "Test Accuracy: 0.90\n",
      "              precision    recall  f1-score   support\n",
      "\n",
      "           0       0.80      1.00      0.89         4\n",
      "           1       1.00      1.00      1.00         4\n",
      "           2       0.75      0.75      0.75         4\n",
      "           3       0.80      1.00      0.89         4\n",
      "           4       0.80      1.00      0.89         4\n",
      "           5       1.00      0.75      0.86         4\n",
      "           6       1.00      1.00      1.00         4\n",
      "           7       1.00      0.50      0.67         4\n",
      "           8       1.00      1.00      1.00         4\n",
      "           9       1.00      1.00      1.00         4\n",
      "\n",
      "    accuracy                           0.90        40\n",
      "   macro avg       0.92      0.90      0.89        40\n",
      "weighted avg       0.92      0.90      0.89        40\n",
      "\n"
     ]
    }
   ],
   "source": [
    "from sklearn.model_selection import KFold\n",
    "from sklearn.metrics import accuracy_score, f1_score\n",
    "import numpy as np\n",
    "\n",
    "class CustomGridSearchCV:\n",
    "    def __init__(self, estimator, param_grid, scoring='accuracy', cv=5):\n",
    "        self.estimator = estimator\n",
    "        self.param_grid = param_grid\n",
    "        self.scoring = scoring\n",
    "        self.cv = cv\n",
    "        self.best_score_ = None\n",
    "        self.best_params_ = None\n",
    "        self.best_estimator_ = None\n",
    "\n",
    "    def _score(self, y_true, y_pred):\n",
    "        if self.scoring == 'accuracy':\n",
    "            return accuracy_score(y_true, y_pred)\n",
    "        elif self.scoring == 'f1_weighted':\n",
    "            return f1_score(y_true, y_pred, average='weighted')\n",
    "        else:\n",
    "            raise ValueError(f\"Scoring method '{self.scoring}' is not implemented.\")\n",
    "\n",
    "    def _generate_param_combinations(self):\n",
    "        from itertools import product\n",
    "        keys = list(self.param_grid.keys())\n",
    "        values = list(self.param_grid.values())\n",
    "        for v in product(*values):\n",
    "            yield dict(zip(keys, v))\n",
    "\n",
    "    def fit(self, X, y):\n",
    "        kf = KFold(n_splits=self.cv, shuffle=True, random_state=42)\n",
    "        best_score = -np.inf\n",
    "        best_params = None\n",
    "        best_model = None\n",
    "\n",
    "        for param_set in self._generate_param_combinations():\n",
    "            scores = []\n",
    "\n",
    "            for train_idx, val_idx in kf.split(X):\n",
    "                X_train, X_val = X[train_idx], X[val_idx]\n",
    "                y_train, y_val = y[train_idx], y[val_idx]\n",
    "\n",
    "                model = self.estimator.__class__(**param_set)\n",
    "                model.fit(X_train, y_train)\n",
    "                y_pred = model.predict(X_val)\n",
    "                score = self._score(y_val, y_pred)\n",
    "                scores.append(score)\n",
    "\n",
    "            avg_score = np.mean(scores)\n",
    "\n",
    "            if avg_score > best_score:\n",
    "                best_score = avg_score\n",
    "                best_params = param_set\n",
    "                best_model = self.estimator.__class__(**param_set)\n",
    "                best_model.fit(X, y)\n",
    "\n",
    "        self.best_score_ = best_score\n",
    "        self.best_params_ = best_params\n",
    "        self.best_estimator_ = best_model\n"
   ]
  },
  {
   "cell_type": "code",
   "execution_count": 39,
   "metadata": {},
   "outputs": [],
   "source": [
    "from sklearn.model_selection import KFold\n",
    "from sklearn.metrics import accuracy_score, f1_score\n",
    "import numpy as np\n",
    "\n",
    "class CustomGridSearchCV:\n",
    "    def __init__(self, estimator, param_grid, scoring='accuracy', cv=5):\n",
    "        self.estimator = estimator\n",
    "        self.param_grid = param_grid\n",
    "        self.scoring = scoring\n",
    "        self.cv = cv\n",
    "        self.best_score_ = None\n",
    "        self.best_params_ = None\n",
    "        self.best_estimator_ = None\n",
    "\n",
    "    def _score(self, y_true, y_pred):\n",
    "        if self.scoring == 'accuracy':\n",
    "            return accuracy_score(y_true, y_pred)\n",
    "        elif self.scoring == 'f1_weighted':\n",
    "            return f1_score(y_true, y_pred, average='weighted')\n",
    "        else:\n",
    "            raise ValueError(f\"Scoring method '{self.scoring}' is not implemented.\")\n",
    "\n",
    "    def _generate_param_combinations(self):\n",
    "        from itertools import product\n",
    "        keys = list(self.param_grid.keys())\n",
    "        values = list(self.param_grid.values())\n",
    "        for v in product(*values):\n",
    "            yield dict(zip(keys, v))\n",
    "\n",
    "    def fit(self, X, y):\n",
    "        kf = KFold(n_splits=self.cv, shuffle=True, random_state=42)\n",
    "        best_score = -np.inf\n",
    "        best_params = None\n",
    "        best_model = None\n",
    "\n",
    "        for param_set in self._generate_param_combinations():\n",
    "            scores = []\n",
    "\n",
    "            for train_idx, val_idx in kf.split(X):\n",
    "                X_train, X_val = X[train_idx], X[val_idx]\n",
    "                y_train, y_val = y[train_idx], y[val_idx]\n",
    "\n",
    "                model = self.estimator.__class__(**param_set)\n",
    "                model.fit(X_train, y_train)\n",
    "                y_pred = model.predict(X_val)\n",
    "                score = self._score(y_val, y_pred)\n",
    "                scores.append(score)\n",
    "\n",
    "            avg_score = np.mean(scores)\n",
    "\n",
    "            if avg_score > best_score:\n",
    "                best_score = avg_score\n",
    "                best_params = param_set\n",
    "                best_model = self.estimator.__class__(**param_set)\n",
    "                best_model.fit(X, y)\n",
    "\n",
    "        self.best_score_ = best_score\n",
    "        self.best_params_ = best_params\n",
    "        self.best_estimator_ = best_model\n"
   ]
  },
  {
   "cell_type": "code",
   "execution_count": 43,
   "metadata": {},
   "outputs": [
    {
     "name": "stdout",
     "output_type": "stream",
     "text": [
      "Best params: {'C': 0.1, 'kernel': 'linear'}\n",
      "Best score: 0.8991829004329004\n"
     ]
    }
   ],
   "source": [
    "from sklearn.svm import SVC\n",
    "from sklearn.datasets import load_iris\n",
    "\n",
    "param_grid = {\n",
    "    'C': [0.1, 1, 10],\n",
    "    'kernel': ['linear', 'rbf']\n",
    "}\n",
    "\n",
    "grid = CustomGridSearchCV(SVC(), param_grid, scoring='f1_weighted', cv=5)\n",
    "grid.fit(X_train, y_train )\n",
    "\n",
    "print(\"Best params:\", grid.best_params_)\n",
    "print(\"Best score:\", grid.best_score_)\n"
   ]
  },
  {
   "cell_type": "code",
   "execution_count": null,
   "metadata": {},
   "outputs": [
    {
     "name": "stdout",
     "output_type": "stream",
     "text": [
      "Best Parameters: {'criterion': 'entropy', 'max_depth': 4, 'min_samples_split': 2}\n",
      "Best F1 Weighted Score: 0.50625\n"
     ]
    }
   ],
   "source": [
    "from sklearn.tree import DecisionTreeClassifier\n",
    "from sklearn.datasets import load_iris\n",
    "\n",
    "# params\n",
    "param_grid = {\n",
    "    'criterion': ['gini', 'entropy'],\n",
    "    'max_depth': [2, 3, 4, 5],\n",
    "    'min_samples_split': [2, 4]\n",
    "}\n",
    "\n",
    "grid = CustomGridSearchCV(\n",
    "    estimator=DecisionTreeClassifier(),\n",
    "    param_grid=param_grid,\n",
    "    scoring='f1_weighted', \n",
    "    cv=5\n",
    ")\n",
    "\n",
    "# Fit the model\n",
    "grid.fit(X_train, y_train)\n",
    "\n",
    "# Print results\n",
    "print(\"Best Parameters:\", grid.best_params_)\n",
    "print(\"Best F1 Weighted Score:\", grid.best_score_)\n"
   ]
  }
 ],
 "metadata": {
  "kernelspec": {
   "display_name": "myenv",
   "language": "python",
   "name": "python3"
  },
  "language_info": {
   "codemirror_mode": {
    "name": "ipython",
    "version": 3
   },
   "file_extension": ".py",
   "mimetype": "text/x-python",
   "name": "python",
   "nbconvert_exporter": "python",
   "pygments_lexer": "ipython3",
   "version": "3.13.3"
  }
 },
 "nbformat": 4,
 "nbformat_minor": 2
}
