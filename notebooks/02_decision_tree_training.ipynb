{
 "cells": [
  {
   "cell_type": "code",
   "execution_count": 964,
   "metadata": {},
   "outputs": [],
   "source": [
    "from PIL import Image\n",
    "import numpy as np\n",
    "import pandas as pd\n",
    "from sklearn.tree import DecisionTreeClassifier, plot_tree\n",
    "import matplotlib.pyplot as plt"
   ]
  },
  {
   "cell_type": "code",
   "execution_count": 965,
   "metadata": {},
   "outputs": [
    {
     "name": "stdout",
     "output_type": "stream",
     "text": [
      "\n",
      "Sample flattened image from 'data': [248 248 248 248 248 248 247 247 247 247]\n",
      "\n",
      "Sample flattened image from 'train': [252 252 252 255 255 255 248 248 248 250]\n",
      "\n",
      "Sample flattened image from 'test': [245 245 245 245 245 245 244 244 244 243]\n"
     ]
    }
   ],
   "source": [
    "data = pd.read_csv(\"../data/datasets/data.csv\")\n",
    "train = pd.read_csv(\"../data/datasets/train.csv\")\n",
    "test = pd.read_csv(\"../data/datasets/test.csv\")\n",
    "\n",
    "def transform(X):\n",
    "    img = np.array(Image.open(f\"../data/datasets/samples/{X['filename']}\"))\n",
    "    flattened_img = img.flatten()\n",
    "    return flattened_img\n",
    "\n",
    "# Apply to each DataFrame and store the flattened images\n",
    "data['flattened_image'] = data.apply(transform, axis=1)\n",
    "train['flattened_image'] = train.apply(transform, axis=1)\n",
    "test['flattened_image'] = test.apply(transform, axis=1)\n",
    "\n",
    "print(\"\\nSample flattened image from 'data':\", data['flattened_image'][0][:10])  # First 10 pixels\n",
    "print(\"\\nSample flattened image from 'train':\", train['flattened_image'][0][:10])\n",
    "print(\"\\nSample flattened image from 'test':\", test['flattened_image'][0][:10])"
   ]
  },
  {
   "cell_type": "code",
   "execution_count": 966,
   "metadata": {},
   "outputs": [],
   "source": [
    "#"
   ]
  },
  {
   "cell_type": "markdown",
   "metadata": {},
   "source": [
    "# Preprocessing the data and center + crop the number one digits"
   ]
  },
  {
   "cell_type": "code",
   "execution_count": 967,
   "metadata": {},
   "outputs": [
    {
     "name": "stdout",
     "output_type": "stream",
     "text": [
      "\n",
      "--- Training Data ---\n",
      "X_train shape: (160, 2352)\n",
      "y_train shape: (160,)\n",
      "\n",
      "--- Test Data ---\n",
      "X_test shape: (40, 2352)\n",
      "y_test shape: (40,)\n"
     ]
    }
   ],
   "source": [
    "import numpy as np\n",
    "from scipy.ndimage import center_of_mass\n",
    "import cv2\n",
    "\n",
    "# Generalized preprocessing function: center and resize specified digits\n",
    "def preprocess_and_center(img):\n",
    "    gray = img.mean(axis=2)  # Convert to grayscale\n",
    "    binary = (gray > 30).astype(np.uint8)\n",
    "\n",
    "    # Bounding box\n",
    "    rows = np.any(binary, axis=1)\n",
    "    cols = np.any(binary, axis=0)\n",
    "    if not rows.any() or not cols.any():\n",
    "        return img  # Return original if blank\n",
    "\n",
    "    rmin, rmax = np.where(rows)[0][[0, -1]]\n",
    "    cmin, cmax = np.where(cols)[0][[0, -1]]\n",
    "    digit_crop = gray[rmin:rmax+1, cmin:cmax+1]\n",
    "\n",
    "    # Resize to fit in 20x20 box\n",
    "    h, w = digit_crop.shape\n",
    "    scale = 20.0 / max(h, w)\n",
    "    resized = cv2.resize(digit_crop, (int(w * scale), int(h * scale)), interpolation=cv2.INTER_AREA)\n",
    "\n",
    "    # Center in 28x28 canvas\n",
    "    canvas = np.zeros((28, 28), dtype=np.uint8)\n",
    "    rh, rw = resized.shape\n",
    "    top = (28 - rh) // 2\n",
    "    left = (28 - rw) // 2\n",
    "    canvas[top:top + rh, left:left + rw] = resized\n",
    "\n",
    "    return np.stack([canvas] * 3, axis=-1)  # Back to RGB\n",
    "\n",
    "\n",
    "# Digits to preprocess (center and normalize)\n",
    "target_digits = [1, 2, 5, 6]\n",
    "\n",
    "# Load and reshape data\n",
    "X_train_raw = np.stack(train['flattened_image'].values)\n",
    "y_train = train['label'].values\n",
    "\n",
    "X_test_raw = np.stack(test['flattened_image'].values)\n",
    "y_test = test['label'].values\n",
    "\n",
    "# Apply preprocessing for selected digits\n",
    "X_train = np.array([\n",
    "    preprocess_and_center(img.reshape(28, 28, 3)).reshape(-1) if label in target_digits else img\n",
    "    for img, label in zip(X_train_raw, y_train)\n",
    "])\n",
    "\n",
    "X_test = np.array([\n",
    "    preprocess_and_center(img.reshape(28, 28, 3)).reshape(-1) if label in target_digits else img\n",
    "    for img, label in zip(X_test_raw, y_test)\n",
    "])\n",
    "\n",
    "# Check output\n",
    "print(\"\\n--- Training Data ---\")\n",
    "print(f\"X_train shape: {X_train.shape}\")\n",
    "print(f\"y_train shape: {y_train.shape}\")\n",
    "\n",
    "print(\"\\n--- Test Data ---\")\n",
    "print(f\"X_test shape: {X_test.shape}\")\n",
    "print(f\"y_test shape: {y_test.shape}\")\n"
   ]
  },
  {
   "cell_type": "code",
   "execution_count": 968,
   "metadata": {},
   "outputs": [
    {
     "name": "stdout",
     "output_type": "stream",
     "text": [
      "\n",
      "--- Dummy Classifier ---\n",
      "Accuracy: 0.1\n",
      "\n",
      "Classification Report:\n",
      "               precision    recall  f1-score   support\n",
      "\n",
      "           0       0.10      1.00      0.18         4\n",
      "           1       0.00      0.00      0.00         4\n",
      "           2       0.00      0.00      0.00         4\n",
      "           3       0.00      0.00      0.00         4\n",
      "           4       0.00      0.00      0.00         4\n",
      "           5       0.00      0.00      0.00         4\n",
      "           6       0.00      0.00      0.00         4\n",
      "           7       0.00      0.00      0.00         4\n",
      "           8       0.00      0.00      0.00         4\n",
      "           9       0.00      0.00      0.00         4\n",
      "\n",
      "    accuracy                           0.10        40\n",
      "   macro avg       0.01      0.10      0.02        40\n",
      "weighted avg       0.01      0.10      0.02        40\n",
      "\n"
     ]
    },
    {
     "name": "stderr",
     "output_type": "stream",
     "text": [
      "/home/udom/Desktop/projects/digits_classifier/.venv/lib/python3.12/site-packages/sklearn/metrics/_classification.py:1565: UndefinedMetricWarning: Precision is ill-defined and being set to 0.0 in labels with no predicted samples. Use `zero_division` parameter to control this behavior.\n",
      "  _warn_prf(average, modifier, f\"{metric.capitalize()} is\", len(result))\n",
      "/home/udom/Desktop/projects/digits_classifier/.venv/lib/python3.12/site-packages/sklearn/metrics/_classification.py:1565: UndefinedMetricWarning: Precision is ill-defined and being set to 0.0 in labels with no predicted samples. Use `zero_division` parameter to control this behavior.\n",
      "  _warn_prf(average, modifier, f\"{metric.capitalize()} is\", len(result))\n",
      "/home/udom/Desktop/projects/digits_classifier/.venv/lib/python3.12/site-packages/sklearn/metrics/_classification.py:1565: UndefinedMetricWarning: Precision is ill-defined and being set to 0.0 in labels with no predicted samples. Use `zero_division` parameter to control this behavior.\n",
      "  _warn_prf(average, modifier, f\"{metric.capitalize()} is\", len(result))\n"
     ]
    }
   ],
   "source": [
    "from sklearn.dummy import DummyClassifier\n",
    "from sklearn.metrics import accuracy_score, classification_report, confusion_matrix\n",
    "\n",
    "clf = DummyClassifier(strategy=\"most_frequent\")\n",
    "clf.fit(X_train, y_train)\n",
    "y_pred = clf.predict(X_test)\n",
    "print(\"\\n--- Dummy Classifier ---\")\n",
    "print(f\"Accuracy: {accuracy_score(y_test, y_pred)}\")\n",
    "print(\"\\nClassification Report:\\n\", classification_report(y_test, y_pred))"
   ]
  },
  {
   "cell_type": "code",
   "execution_count": 969,
   "metadata": {},
   "outputs": [
    {
     "name": "stdout",
     "output_type": "stream",
     "text": [
      "\n",
      "--- Random Forest Classifier ---\n",
      "Accuracy: 0.70\n",
      "\n",
      "Classification Report:\n",
      "               precision    recall  f1-score   support\n",
      "\n",
      "           0       0.50      0.75      0.60         4\n",
      "           1       0.75      0.75      0.75         4\n",
      "           2       0.60      0.75      0.67         4\n",
      "           3       1.00      0.25      0.40         4\n",
      "           4       0.60      0.75      0.67         4\n",
      "           5       0.75      0.75      0.75         4\n",
      "           6       1.00      0.75      0.86         4\n",
      "           7       0.80      1.00      0.89         4\n",
      "           8       0.60      0.75      0.67         4\n",
      "           9       1.00      0.50      0.67         4\n",
      "\n",
      "    accuracy                           0.70        40\n",
      "   macro avg       0.76      0.70      0.69        40\n",
      "weighted avg       0.76      0.70      0.69        40\n",
      "\n"
     ]
    }
   ],
   "source": [
    "\n",
    "# Initialize and train the model\n",
    "dt_clf = DecisionTreeClassifier(\n",
    "    random_state=0\n",
    ")\n",
    "dt_clf.fit(X_train, y_train)\n",
    "\n",
    "# Predict and evaluate\n",
    "y_pred_rf = dt_clf.predict(X_test)\n",
    "\n",
    "print(\"\\n--- Random Forest Classifier ---\")\n",
    "print(f\"Accuracy: {accuracy_score(y_test, y_pred_rf):.2f}\")\n",
    "print(\"\\nClassification Report:\\n\", classification_report(y_test, y_pred_rf))"
   ]
  },
  {
   "cell_type": "markdown",
   "metadata": {},
   "source": [
    "<!-- # Hyperparameter Tuning & Cross Validation -->"
   ]
  },
  {
   "cell_type": "code",
   "execution_count": 970,
   "metadata": {},
   "outputs": [],
   "source": [
    "# from sklearn.model_selection import GridSearchCV\n",
    "\n",
    "# parameters = {'criterion':('gini', 'entropy', 'log_loss'), 'max_depth':[None, 5, 10, 20]}\n",
    "# clf = DecisionTreeClassifier()\n",
    "# clf = GridSearchCV(clf, parameters, cv=5, scoring='f1_weighted')\n",
    "# clf.fit(X_train, y_train)\n",
    "# clf.best_score_, clf.best_params_"
   ]
  },
  {
   "cell_type": "code",
   "execution_count": 971,
   "metadata": {},
   "outputs": [
    {
     "name": "stdout",
     "output_type": "stream",
     "text": [
      "Best Parameters: {'C': 10, 'gamma': 'scale', 'kernel': 'rbf'}\n",
      "Best Cross-Val Accuracy: 0.93\n"
     ]
    }
   ],
   "source": [
    "from sklearn.model_selection import GridSearchCV\n",
    "from sklearn.svm import SVC\n",
    "from sklearn.metrics import accuracy_score, classification_report\n",
    "\n",
    "# Define the parameter grid\n",
    "param_grid = {\n",
    "    'C': [0.1, 1, 10],                      # Regularization strength\n",
    "    'gamma': ['scale', 'auto', 0.1, 1],     # Kernel coefficient\n",
    "    'kernel': ['rbf']                       # Fixing to RBF kernel\n",
    "}\n",
    "\n",
    "# Create SVC model\n",
    "svc = SVC(random_state=0)\n",
    "\n",
    "# Grid search with 5-fold cross-validation\n",
    "grid_svc = GridSearchCV(\n",
    "    estimator=svc,\n",
    "    param_grid=param_grid,\n",
    "    scoring='accuracy',\n",
    "    cv=5,\n",
    "    n_jobs=-1\n",
    ")\n",
    "\n",
    "# Fit to training data\n",
    "grid_svc.fit(X_train, y_train)\n",
    "\n",
    "# Best parameters and score\n",
    "print(\"Best Parameters:\", grid_svc.best_params_)\n",
    "print(f\"Best Cross-Val Accuracy: {grid_svc.best_score_:.2f}\")\n",
    "\n",
    "# Predict using the best model\n",
    "y_pred_svm = grid_svc.predict(X_test)"
   ]
  },
  {
   "cell_type": "code",
   "execution_count": 972,
   "metadata": {},
   "outputs": [],
   "source": [
    "from sklearn.model_selection import KFold\n",
    "from sklearn.metrics import accuracy_score, f1_score\n",
    "import numpy as np\n",
    "from sklearn.model_selection import StratifiedKFold\n",
    "\n",
    "class CustomGridSearchCV:\n",
    "    def __init__(self, estimator, param_grid, scoring='accuracy', cv=5):\n",
    "        self.estimator = estimator\n",
    "        self.param_grid = param_grid\n",
    "        self.scoring = scoring\n",
    "        self.cv = cv\n",
    "        self.best_score_ = None\n",
    "        self.best_params_ = None\n",
    "        self.best_estimator_ = None\n",
    "\n",
    "    def _score(self, y_true, y_pred):\n",
    "        if self.scoring == 'accuracy':\n",
    "            return accuracy_score(y_true, y_pred)\n",
    "        elif self.scoring == 'f1_weighted':\n",
    "            return f1_score(y_true, y_pred, average='weighted')\n",
    "        else:\n",
    "            raise ValueError(f\"Scoring method '{self.scoring}' is not implemented.\")\n",
    "\n",
    "    def _generate_param_combinations(self):\n",
    "        from itertools import product\n",
    "        keys = list(self.param_grid.keys())\n",
    "        values = list(self.param_grid.values())\n",
    "        for v in product(*values):\n",
    "            yield dict(zip(keys, v))\n",
    "\n",
    "    def fit(self, X, y):\n",
    "        skf = StratifiedKFold(n_splits=self.cv, shuffle=True, random_state=42)\n",
    "        best_score = -np.inf\n",
    "        best_params = None\n",
    "        best_model = None\n",
    "\n",
    "        for param_set in self._generate_param_combinations():\n",
    "            scores = []\n",
    "\n",
    "            for train_idx, val_idx in skf.split(X, y):\n",
    "                X_train, X_val = X[train_idx], X[val_idx]\n",
    "                y_train, y_val = y[train_idx], y[val_idx]\n",
    "\n",
    "                model = self.estimator.__class__(**param_set)\n",
    "                model.fit(X_train, y_train)\n",
    "                y_pred = model.predict(X_val)\n",
    "                score = self._score(y_val, y_pred)\n",
    "                scores.append(score)\n",
    "\n",
    "            avg_score = np.mean(scores)\n",
    "\n",
    "            if avg_score > best_score:\n",
    "                best_score = avg_score\n",
    "                best_params = param_set\n",
    "                best_model = self.estimator.__class__(**param_set)\n",
    "                best_model.fit(X, y)\n",
    "\n",
    "        self.best_score_ = best_score\n",
    "        self.best_params_ = best_params\n",
    "        self.best_estimator_ = best_model\n"
   ]
  },
  {
   "cell_type": "code",
   "execution_count": 973,
   "metadata": {},
   "outputs": [
    {
     "name": "stdout",
     "output_type": "stream",
     "text": [
      "Best params: {'C': 0.01, 'kernel': 'poly', 'gamma': 1e-06, 'degree': 2}\n",
      "Best score: 0.9277232142857142\n",
      "              precision    recall  f1-score   support\n",
      "\n",
      "           0       1.00      1.00      1.00         4\n",
      "           1       1.00      1.00      1.00         4\n",
      "           2       1.00      1.00      1.00         4\n",
      "           3       0.80      1.00      0.89         4\n",
      "           4       1.00      1.00      1.00         4\n",
      "           5       1.00      1.00      1.00         4\n",
      "           6       1.00      1.00      1.00         4\n",
      "           7       1.00      0.75      0.86         4\n",
      "           8       1.00      1.00      1.00         4\n",
      "           9       1.00      1.00      1.00         4\n",
      "\n",
      "    accuracy                           0.97        40\n",
      "   macro avg       0.98      0.97      0.97        40\n",
      "weighted avg       0.98      0.97      0.97        40\n",
      "\n"
     ]
    },
    {
     "data": {
      "image/png": "[encoded data removed]",
      "text/plain": [
       "<Figure size 800x600 with 2 Axes>"
      ]
     },
     "metadata": {},
     "output_type": "display_data"
    }
   ],
   "source": [
    "from sklearn.svm import SVC\n",
    "from sklearn.metrics import confusion_matrix, classification_report\n",
    "import matplotlib.pyplot as plt\n",
    "import seaborn as sns\n",
    "from sklearn.metrics import accuracy_score\n",
    "\n",
    "# from sklearn.model_selection import GridSearchCV\n",
    "#params\n",
    "param_grid = {\n",
    "    'C': [0.01, 0.1, 1, 10],\n",
    "    'kernel': ['poly', 'rbf'],\n",
    "    # other params like gamma, degree\n",
    "    'gamma': [1e-12, 1e-9, 1e-6, 'scale', 'auto'],\n",
    "    # 'gamma': 'auto', \n",
    "    'degree': [2, 3, 4],\n",
    "    # other params like max_iter, tol\n",
    "\n",
    "}\n",
    "svc = SVC(probability=True, class_weight='balanced')\n",
    "grid = CustomGridSearchCV(svc, param_grid, scoring='f1_weighted', cv=5)\n",
    "grid.fit(X_train, y_train )\n",
    "\n",
    "print(\"Best params:\", grid.best_params_)\n",
    "print(\"Best score:\", grid.best_score_)\n",
    "# evaluate on test data\n",
    "y_pred = grid.best_estimator_.predict(X_test)\n",
    "print(classification_report(y_test, y_pred))\n",
    "cm = confusion_matrix(y_test, y_pred)\n",
    "plt.figure(figsize=(8, 6))\n",
    "sns.heatmap(cm, annot=True, fmt='d', cmap='Blues', \n",
    "            xticklabels=grid.best_estimator_.classes_, \n",
    "            yticklabels=grid.best_estimator_.classes_)\n",
    "plt.title('Confusion Matrix')\n",
    "plt.xlabel('Predicted Label')\n",
    "plt.ylabel('True Label')\n",
    "plt.tight_layout()\n",
    "plt.show()"
   ]
  },
  {
   "cell_type": "code",
   "execution_count": 974,
   "metadata": {},
   "outputs": [
    {
     "name": "stdout",
     "output_type": "stream",
     "text": [
      "[1 2 5 6 1 9 3 8 7 4 6 8 3 4 0 7 9 3 4 9 9 1 3 8 2 2 0 1 4 6 8 2 6 0 5 5 7\n",
      " 5 0 7]\n"
     ]
    }
   ],
   "source": [
    "print(y_test)"
   ]
  },
  {
   "cell_type": "code",
   "execution_count": 975,
   "metadata": {},
   "outputs": [
    {
     "name": "stdout",
     "output_type": "stream",
     "text": [
      "[False False False False False False False False False False False False\n",
      " False False  True False False False False False False False False False\n",
      " False False  True False False False False False False  True False False\n",
      " False False  True False]\n"
     ]
    }
   ],
   "source": [
    "# the model predicts as 0\n",
    "print((y_pred == 0))"
   ]
  },
  {
   "cell_type": "code",
   "execution_count": 976,
   "metadata": {},
   "outputs": [
    {
     "name": "stdout",
     "output_type": "stream",
     "text": [
      "[False False False False False False False False False False False False\n",
      " False False False False False False False False False False False False\n",
      " False False False False False False False False False False False False\n",
      " False False False False]\n"
     ]
    }
   ],
   "source": [
    "# the model predicts as 0 when the actual value is 1\n",
    "print((y_test == 1) & (y_pred == 0))"
   ]
  },
  {
   "cell_type": "code",
   "execution_count": 977,
   "metadata": {},
   "outputs": [
    {
     "data": {
      "text/plain": [
       "array([False, False, False, False, False, False, False, False, False,\n",
       "       False, False, False, False, False, False, False, False, False,\n",
       "       False, False, False, False, False, False, False, False, False,\n",
       "       False, False, False, False, False, False, False, False, False,\n",
       "       False, False, False, False])"
      ]
     },
     "execution_count": 977,
     "metadata": {},
     "output_type": "execute_result"
    }
   ],
   "source": [
    "# the model predicts as 0 when the actual value is 1\n",
    "(y_test == 1) & (y_pred == 0)"
   ]
  },
  {
   "cell_type": "code",
   "execution_count": 978,
   "metadata": {},
   "outputs": [
    {
     "name": "stdout",
     "output_type": "stream",
     "text": [
      "[False False False False False False False False False False False False\n",
      " False False False False False False False False False False False False\n",
      " False False False False False False False False False False False False\n",
      " False False False False]\n"
     ]
    }
   ],
   "source": [
    "# the model predicts as 1 when the actual value is 1\n",
    "print((y_test != 0) & (y_pred == 0))\n"
   ]
  },
  {
   "cell_type": "code",
   "execution_count": 979,
   "metadata": {},
   "outputs": [
    {
     "name": "stdout",
     "output_type": "stream",
     "text": [
      "[ True False False False  True False False False False False False False\n",
      " False False False False False False False False False  True False False\n",
      " False False False  True False False False False False False False False\n",
      " False False False False]\n"
     ]
    }
   ],
   "source": [
    "# the model predicts as 1 when the actual value is 1\n",
    "print((y_test == 1) & (y_pred == 1))"
   ]
  },
  {
   "cell_type": "code",
   "execution_count": 980,
   "metadata": {},
   "outputs": [
    {
     "data": {
      "text/plain": [
       "array([], dtype=int64)"
      ]
     },
     "execution_count": 980,
     "metadata": {},
     "output_type": "execute_result"
    }
   ],
   "source": [
    "y_test[(y_test == 1) & (y_pred == 0)]"
   ]
  },
  {
   "cell_type": "markdown",
   "metadata": {},
   "source": [
    "<!-- # the model predicts as 0 when the actual value is 1 -->"
   ]
  },
  {
   "cell_type": "code",
   "execution_count": 981,
   "metadata": {},
   "outputs": [
    {
     "data": {
      "text/plain": [
       "<matplotlib.image.AxesImage at 0x7a517eeb9130>"
      ]
     },
     "execution_count": 981,
     "metadata": {},
     "output_type": "execute_result"
    },
    {
     "data": {
      "image/png": "[encoded data removed]",
      "text/plain": [
       "<Figure size 640x480 with 1 Axes>"
      ]
     },
     "metadata": {},
     "output_type": "display_data"
    }
   ],
   "source": [
    "import matplotlib.pyplot as plt\n",
    "\n",
    "img = np.reshape(X_test[(y_test == 7) & (y_pred == 3)][0], (28, 28, 3))\n",
    "\n",
    "plt.imshow(img)"
   ]
  },
  {
   "cell_type": "markdown",
   "metadata": {},
   "source": [
    "<!-- # the model predicts as 1 when the actual value is 1 -->\n"
   ]
  },
  {
   "cell_type": "code",
   "execution_count": 982,
   "metadata": {},
   "outputs": [
    {
     "data": {
      "text/plain": [
       "<matplotlib.image.AxesImage at 0x7a5174a1a090>"
      ]
     },
     "execution_count": 982,
     "metadata": {},
     "output_type": "execute_result"
    },
    {
     "data": {
      "image/png": "[encoded data removed]",
      "text/plain": [
       "<Figure size 640x480 with 1 Axes>"
      ]
     },
     "metadata": {},
     "output_type": "display_data"
    }
   ],
   "source": [
    "import matplotlib.pyplot as plt\n",
    "\n",
    "img = np.reshape(X_test[(y_test == 7) & (y_pred == 7)][1], (28, 28, 3))\n",
    "\n",
    "plt.imshow(img)"
   ]
  },
  {
   "cell_type": "code",
   "execution_count": 983,
   "metadata": {},
   "outputs": [
    {
     "data": {
      "text/plain": [
       "<matplotlib.image.AxesImage at 0x7a5174c258b0>"
      ]
     },
     "execution_count": 983,
     "metadata": {},
     "output_type": "execute_result"
    },
    {
     "data": {
      "image/png": "[encoded data removed]",
      "text/plain": [
       "<Figure size 640x480 with 1 Axes>"
      ]
     },
     "metadata": {},
     "output_type": "display_data"
    }
   ],
   "source": [
    "import matplotlib.pyplot as plt\n",
    "\n",
    "img = np.reshape(X_test[(y_test == 7) & (y_pred == 7)][0], (28, 28, 3))\n",
    "\n",
    "plt.imshow(img)"
   ]
  },
  {
   "cell_type": "code",
   "execution_count": 984,
   "metadata": {},
   "outputs": [
    {
     "data": {
      "text/plain": [
       "<matplotlib.image.AxesImage at 0x7a517468f830>"
      ]
     },
     "execution_count": 984,
     "metadata": {},
     "output_type": "execute_result"
    },
    {
     "data": {
      "image/png": "[encoded data removed]",
      "text/plain": [
       "<Figure size 640x480 with 1 Axes>"
      ]
     },
     "metadata": {},
     "output_type": "display_data"
    }
   ],
   "source": [
    "import matplotlib.pyplot as plt\n",
    "\n",
    "img = np.reshape(X_test[(y_test == 7) & (y_pred == 7)][2], (28, 28, 3))\n",
    "\n",
    "plt.imshow(img)"
   ]
  },
  {
   "cell_type": "code",
   "execution_count": 985,
   "metadata": {},
   "outputs": [
    {
     "name": "stdout",
     "output_type": "stream",
     "text": [
      "[1 1 1 1]\n"
     ]
    }
   ],
   "source": [
    "print(y_test[(y_test == 1) & (y_pred == 1)])"
   ]
  },
  {
   "cell_type": "code",
   "execution_count": 986,
   "metadata": {},
   "outputs": [
    {
     "data": {
      "text/plain": [
       "<Figure size 1000x500 with 0 Axes>"
      ]
     },
     "metadata": {},
     "output_type": "display_data"
    }
   ],
   "source": [
    "import numpy as np\n",
    "import matplotlib.pyplot as plt\n",
    "\n",
    "# Get indices where true label is NOT 0 but predicted as 0\n",
    "false_positives_for_0 = np.where((y_test != 0) & (y_pred == 0))[0]\n",
    "\n",
    "# Plot the first few misclassified digits\n",
    "plt.figure(figsize=(10, 5))\n",
    "for i, idx in enumerate(false_positives_for_0[:5]):  # Show first 5 examples\n",
    "    plt.subplot(1, 5, i + 1)\n",
    "    img = X_test[idx].reshape(28, 28, 3)  # Reshape to (28, 28, 3) if RGB, else (28, 28)\n",
    "    plt.imshow(img, cmap='gray' if img.shape[-1] != 3 else None)\n",
    "    plt.title(f\"True: {y_test[idx]}\\nPred: {y_pred[idx]}\")\n",
    "    plt.axis('off')\n",
    "plt.tight_layout()\n",
    "plt.show()"
   ]
  },
  {
   "cell_type": "code",
   "execution_count": 987,
   "metadata": {},
   "outputs": [
    {
     "data": {
      "image/png": "[encoded data removed]",
      "text/plain": [
       "<Figure size 1000x200 with 4 Axes>"
      ]
     },
     "metadata": {},
     "output_type": "display_data"
    },
    {
     "data": {
      "image/png": "[encoded data removed]",
      "text/plain": [
       "<Figure size 1000x200 with 4 Axes>"
      ]
     },
     "metadata": {},
     "output_type": "display_data"
    },
    {
     "data": {
      "image/png": "[encoded data removed]",
      "text/plain": [
       "<Figure size 1000x200 with 4 Axes>"
      ]
     },
     "metadata": {},
     "output_type": "display_data"
    }
   ],
   "source": [
    "import numpy as np\n",
    "import matplotlib.pyplot as plt\n",
    "\n",
    "# Define target digits\n",
    "target_digits = [2, 5, 6]\n",
    "\n",
    "# Loop over each digit\n",
    "for digit in target_digits:\n",
    "    # Get indices where prediction is correct and label is digit\n",
    "    correct_indices = np.where((y_test == digit) & (y_pred == digit))[0]\n",
    "    \n",
    "    # Plot up to 5 correctly classified examples for this digit\n",
    "    plt.figure(figsize=(10, 2))\n",
    "    plt.suptitle(f\"Correctly Classified Samples of Digit {digit}\")\n",
    "    for i, idx in enumerate(correct_indices[:5]):\n",
    "        plt.subplot(1, 5, i + 1)\n",
    "        img = X_test[idx].reshape(28, 28, 3)\n",
    "        plt.imshow(img, cmap='gray' if img.shape[-1] != 3 else None)\n",
    "        plt.title(f\"Label: {digit}\")\n",
    "        plt.axis('off')\n",
    "    plt.tight_layout()\n",
    "    plt.show()\n"
   ]
  },
  {
   "cell_type": "code",
   "execution_count": 988,
   "metadata": {},
   "outputs": [
    {
     "data": {
      "image/png": "[encoded data removed]",
      "text/plain": [
       "<Figure size 1000x1000 with 4 Axes>"
      ]
     },
     "metadata": {},
     "output_type": "display_data"
    }
   ],
   "source": [
    "import matplotlib.pyplot as plt\n",
    "\n",
    "# Find indices where the true label is 0\n",
    "zero_indices = np.where(y_test == 0)[0]\n",
    "\n",
    "# Display all images, 25 per page\n",
    "batch_size = 25\n",
    "num_batches = (len(zero_indices) + batch_size - 1) // batch_size\n",
    "\n",
    "for batch in range(num_batches):\n",
    "    plt.figure(figsize=(10, 10))\n",
    "    for i in range(batch_size):\n",
    "        idx = batch * batch_size + i\n",
    "        if idx >= len(zero_indices):\n",
    "            break\n",
    "        img_idx = zero_indices[idx]\n",
    "        img = X_test[img_idx].reshape(28, 28, 3).astype(np.uint8)\n",
    "        plt.subplot(5, 5, i + 1)\n",
    "        plt.imshow(img)\n",
    "        plt.title(f\"Idx: {img_idx}\")\n",
    "        plt.axis('off')\n",
    "    plt.tight_layout()\n",
    "    plt.show()\n"
   ]
  },
  {
   "cell_type": "code",
   "execution_count": 989,
   "metadata": {},
   "outputs": [
    {
     "name": "stdout",
     "output_type": "stream",
     "text": [
      "Best Parameters: {'criterion': 'gini', 'max_depth': 10, 'min_samples_split': 10}\n",
      "Best F1 Weighted Score: 0.5999147727272728\n",
      "Test Accuracy: 0.675\n",
      "              precision    recall  f1-score   support\n",
      "\n",
      "           0       0.60      0.75      0.67         4\n",
      "           1       1.00      0.75      0.86         4\n",
      "           2       0.80      1.00      0.89         4\n",
      "           3       0.43      0.75      0.55         4\n",
      "           4       0.67      0.50      0.57         4\n",
      "           5       0.75      0.75      0.75         4\n",
      "           6       0.75      0.75      0.75         4\n",
      "           7       1.00      0.25      0.40         4\n",
      "           8       0.50      0.75      0.60         4\n",
      "           9       1.00      0.50      0.67         4\n",
      "\n",
      "    accuracy                           0.68        40\n",
      "   macro avg       0.75      0.68      0.67        40\n",
      "weighted avg       0.75      0.68      0.67        40\n",
      "\n"
     ]
    }
   ],
   "source": [
    "from sklearn.tree import DecisionTreeClassifier\n",
    "\n",
    "dt = DecisionTreeClassifier(random_state=0)\n",
    "# params\n",
    "param_grid = {\n",
    "    'criterion': ['gini', 'entropy'],\n",
    "    'max_depth': [2, 5, 10],\n",
    "    'min_samples_split': [2, 10],\n",
    "}\n",
    "\n",
    "grid = CustomGridSearchCV(\n",
    "    estimator=dt,\n",
    "    param_grid=param_grid,\n",
    "    scoring='f1_weighted', \n",
    "    cv=5\n",
    ")\n",
    "\n",
    "# Fit the model\n",
    "grid.fit(X_train, y_train)\n",
    "\n",
    "# Print results\n",
    "print(\"Best Parameters:\", grid.best_params_)\n",
    "print(\"Best F1 Weighted Score:\", grid.best_score_)\n",
    "\n",
    "# Evaluate on test data\n",
    "y_pred = grid.best_estimator_.predict(X_test)\n",
    "print(\"Test Accuracy:\", accuracy_score(y_test, y_pred))\n",
    "\n",
    "print(classification_report(y_test, y_pred, digits=2))"
   ]
  },
  {
   "cell_type": "code",
   "execution_count": 990,
   "metadata": {},
   "outputs": [
    {
     "name": "stdout",
     "output_type": "stream",
     "text": [
      "\n",
      "--- Random Forest Classifier ---\n",
      "Accuracy: 0.78\n",
      "\n",
      "Classification Report:\n",
      "               precision    recall  f1-score   support\n",
      "\n",
      "           0       0.57      1.00      0.73         4\n",
      "           1       0.60      0.75      0.67         4\n",
      "           2       0.60      0.75      0.67         4\n",
      "           3       0.67      0.50      0.57         4\n",
      "           4       0.80      1.00      0.89         4\n",
      "           5       1.00      0.75      0.86         4\n",
      "           6       1.00      0.75      0.86         4\n",
      "           7       1.00      0.50      0.67         4\n",
      "           8       1.00      0.75      0.86         4\n",
      "           9       1.00      1.00      1.00         4\n",
      "\n",
      "    accuracy                           0.78        40\n",
      "   macro avg       0.82      0.78      0.78        40\n",
      "weighted avg       0.82      0.78      0.78        40\n",
      "\n"
     ]
    },
    {
     "data": {
      "image/png": "[encoded data removed]",
      "text/plain": [
       "<Figure size 800x600 with 2 Axes>"
      ]
     },
     "metadata": {},
     "output_type": "display_data"
    }
   ],
   "source": [
    "from sklearn.ensemble import RandomForestClassifier\n",
    "from sklearn.metrics import accuracy_score, classification_report, confusion_matrix\n",
    "import matplotlib.pyplot as plt\n",
    "import seaborn as sns\n",
    "\n",
    "# Initialize and train the model\n",
    "rf_clf = RandomForestClassifier(\n",
    "    n_estimators=100,\n",
    "    random_state=0,\n",
    "    # Add other parameters here if needed\n",
    ")\n",
    "rf_clf.fit(X_train, y_train)\n",
    "\n",
    "# Predict\n",
    "y_pred_rf = rf_clf.predict(X_test)\n",
    "\n",
    "# Evaluation prints\n",
    "print(\"\\n--- Random Forest Classifier ---\")\n",
    "print(f\"Accuracy: {accuracy_score(y_test, y_pred_rf):.2f}\")\n",
    "print(\"\\nClassification Report:\\n\", classification_report(y_test, y_pred_rf, zero_division=0))\n",
    "\n",
    "# Compute confusion matrix\n",
    "cm = confusion_matrix(y_test, y_pred_rf)\n",
    "class_names = rf_clf.classes_ \n",
    "\n",
    "# Plot confusion matrix heatmap\n",
    "plt.figure(figsize=(8, 6))\n",
    "sns.heatmap(cm, annot=True, fmt='d', cmap='Blues',\n",
    "            xticklabels=class_names,\n",
    "            yticklabels=class_names)\n",
    "plt.title('Confusion Matrix')\n",
    "plt.xlabel('Predicted Label')\n",
    "plt.ylabel('True Label')\n",
    "plt.tight_layout()\n",
    "plt.show()\n"
   ]
  },
  {
   "cell_type": "code",
   "execution_count": 991,
   "metadata": {},
   "outputs": [],
   "source": [
    "# from sklearn.ensemble import RandomForestClassifier\n",
    "# from sklearn.metrics import accuracy_score, classification_report, confusion_matrix\n",
    "# from sklearn.model_selection import GridSearchCV\n",
    "# import matplotlib.pyplot as plt\n",
    "# import seaborn as sns\n",
    "\n",
    "# # parameter grid for hyperparameter tuning\n",
    "# param_grid = {\n",
    "#     'n_estimators': [100, 200],\n",
    "#     'max_depth': [None, 10, 20],\n",
    "#     'min_samples_split': [2, 5],\n",
    "#     'min_samples_leaf': [1, 2],\n",
    "#     'max_features': ['sqrt', 'log2'],\n",
    "#     'bootstrap': [True, False],\n",
    "#     'class_weight': [None, 'balanced']\n",
    "# }\n",
    "\n",
    "# # GridSearchCV\n",
    "# grid_search = GridSearchCV(\n",
    "#     estimator=RandomForestClassifier(random_state=0),\n",
    "#     param_grid=param_grid,\n",
    "#     cv=5,\n",
    "#     scoring='accuracy',\n",
    "#     n_jobs=-1,\n",
    "#     verbose=2\n",
    "# )\n",
    "\n",
    "# # Perform grid search on the training data\n",
    "# grid_search.fit(X_train, y_train)\n",
    "\n",
    "# # Get the best parameters and model\n",
    "# best_params = grid_search.best_params_\n",
    "# best_rf = grid_search.best_estimator_\n",
    "\n",
    "# # Predict using the best model\n",
    "# y_pred_rf = best_rf.predict(X_test)\n",
    "\n",
    "# # Evaluation\n",
    "# print(\"\\n--- Optimized Random Forest Classifier ---\")\n",
    "# print(f\"Best Parameters: {best_params}\")\n",
    "# print(f\"Accuracy: {accuracy_score(y_test, y_pred_rf):.2f}\")\n",
    "# print(\"\\nClassification Report:\\n\", classification_report(y_test, y_pred_rf, zero_division=0))\n",
    "\n",
    "# # Confusion Matrix\n",
    "# cm = confusion_matrix(y_test, y_pred_rf)\n",
    "# class_names = best_rf.classes_\n",
    "\n",
    "# plt.figure(figsize=(8, 6))\n",
    "# sns.heatmap(cm, annot=True, fmt='d', cmap='Blues',\n",
    "#            xticklabels=class_names,\n",
    "#            yticklabels=class_names)\n",
    "# plt.title('Confusion Matrix')\n",
    "# plt.xlabel('Predicted Label')\n",
    "# plt.ylabel('True Label')\n",
    "# plt.tight_layout()\n",
    "# plt.show()"
   ]
  }
 ],
 "metadata": {
  "kernelspec": {
   "display_name": ".venv",
   "language": "python",
   "name": "python3"
  },
  "language_info": {
   "codemirror_mode": {
    "name": "ipython",
    "version": 3
   },
   "file_extension": ".py",
   "mimetype": "text/x-python",
   "name": "python",
   "nbconvert_exporter": "python",
   "pygments_lexer": "ipython3",
   "version": "3.12.3"
  }
 },
 "nbformat": 4,
 "nbformat_minor": 2
}
