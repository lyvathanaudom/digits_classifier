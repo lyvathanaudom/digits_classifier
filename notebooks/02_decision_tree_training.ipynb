{
 "cells": [
  {
   "cell_type": "code",
   "execution_count": 3,
   "metadata": {},
   "outputs": [],
   "source": [
    "from PIL import Image\n",
    "import numpy as np\n",
    "import pandas as pd\n",
    "from sklearn.tree import DecisionTreeClassifier, plot_tree\n",
    "import matplotlib.pyplot as plt\n"
   ]
  },
  {
   "cell_type": "code",
   "execution_count": 4,
   "metadata": {},
   "outputs": [
    {
     "name": "stdout",
     "output_type": "stream",
     "text": [
      "\n",
      "Sample flattened image from 'data': [248 248 248 248 248 248 247 247 247 247]\n",
      "\n",
      "Sample flattened image from 'train': [252 252 252 255 255 255 248 248 248 250]\n",
      "\n",
      "Sample flattened image from 'test': [245 245 245 245 245 245 244 244 244 243]\n"
     ]
    }
   ],
   "source": [
    "data = pd.read_csv(\"../data/datasets/data.csv\")\n",
    "train = pd.read_csv(\"../data/datasets/train.csv\")\n",
    "test = pd.read_csv(\"../data/datasets/test.csv\")\n",
    "\n",
    "def transform(X):\n",
    "    img = np.array(Image.open(f\"../data/datasets/samples/{X['filename']}\"))\n",
    "    flattened_img = img.flatten()\n",
    "    return flattened_img\n",
    "\n",
    "# Apply to each DataFrame and store the flattened images\n",
    "data['flattened_image'] = data.apply(transform, axis=1)\n",
    "train['flattened_image'] = train.apply(transform, axis=1)\n",
    "test['flattened_image'] = test.apply(transform, axis=1)\n",
    "\n",
    "print(\"\\nSample flattened image from 'data':\", data['flattened_image'][0][:10])  # First 10 pixels\n",
    "print(\"\\nSample flattened image from 'train':\", train['flattened_image'][0][:10])\n",
    "print(\"\\nSample flattened image from 'test':\", test['flattened_image'][0][:10])"
   ]
  },
  {
   "cell_type": "code",
   "execution_count": 5,
   "metadata": {},
   "outputs": [
    {
     "name": "stdout",
     "output_type": "stream",
     "text": [
      "\n",
      "--- Training Data ---\n",
      "X_train shape: (160, 2352)\n",
      "Sample X_train[0] (first 10 pixels): [252 252 252 255 255 255 248 248 248 250]\n",
      "y_train shape: (160,)\n",
      "Sample y_train values: [8 6 5 0 5]\n",
      "\n",
      "--- Test Data ---\n",
      "X_test shape: (40, 2352)\n",
      "Sample X_test[0] (first 10 pixels): [245 245 245 245 245 245 244 244 244 243]\n",
      "y_test shape: (40,)\n",
      "Sample y_test values: [1 2 5 6 1]\n"
     ]
    }
   ],
   "source": [
    "X_train = np.stack(train['flattened_image'].values)  # Convert list of arrays to a 2D numpy array\n",
    "y_train = train['label'].values\n",
    "\n",
    "X_test = np.stack(test['flattened_image'].values)\n",
    "y_test = test['label'].values\n",
    "print(\"\\n--- Training Data ---\")\n",
    "print(f\"X_train shape: {X_train.shape}\")  # (num_samples, flattened_image_length)\n",
    "print(f\"Sample X_train[0] (first 10 pixels): {X_train[0][:10]}\")  # First 10 pixels of first image\n",
    "print(f\"y_train shape: {y_train.shape}\")  # (num_samples,)\n",
    "print(f\"Sample y_train values: {y_train[:5]}\")  # First 5 labels\n",
    "\n",
    "print(\"\\n--- Test Data ---\")\n",
    "print(f\"X_test shape: {X_test.shape}\")  # (num_samples, flattened_image_length)\n",
    "print(f\"Sample X_test[0] (first 10 pixels): {X_test[0][:10]}\")  # First 10 pixels of first test image\n",
    "print(f\"y_test shape: {y_test.shape}\")  # (num_samples,)\n",
    "print(f\"Sample y_test values: {y_test[:5]}\")  # First 5 test labels"
   ]
  },
  {
   "cell_type": "code",
   "execution_count": 6,
   "metadata": {},
   "outputs": [
    {
     "name": "stdout",
     "output_type": "stream",
     "text": [
      "\n",
      "--- Dummy Classifier ---\n",
      "Accuracy: 0.1\n",
      "\n",
      "Classification Report:\n",
      "               precision    recall  f1-score   support\n",
      "\n",
      "           0       0.10      1.00      0.18         4\n",
      "           1       0.00      0.00      0.00         4\n",
      "           2       0.00      0.00      0.00         4\n",
      "           3       0.00      0.00      0.00         4\n",
      "           4       0.00      0.00      0.00         4\n",
      "           5       0.00      0.00      0.00         4\n",
      "           6       0.00      0.00      0.00         4\n",
      "           7       0.00      0.00      0.00         4\n",
      "           8       0.00      0.00      0.00         4\n",
      "           9       0.00      0.00      0.00         4\n",
      "\n",
      "    accuracy                           0.10        40\n",
      "   macro avg       0.01      0.10      0.02        40\n",
      "weighted avg       0.01      0.10      0.02        40\n",
      "\n"
     ]
    },
    {
     "name": "stderr",
     "output_type": "stream",
     "text": [
      "c:\\Users\\Asus\\anaconda3\\lib\\site-packages\\sklearn\\metrics\\_classification.py:1318: UndefinedMetricWarning: Precision and F-score are ill-defined and being set to 0.0 in labels with no predicted samples. Use `zero_division` parameter to control this behavior.\n",
      "  _warn_prf(average, modifier, msg_start, len(result))\n",
      "c:\\Users\\Asus\\anaconda3\\lib\\site-packages\\sklearn\\metrics\\_classification.py:1318: UndefinedMetricWarning: Precision and F-score are ill-defined and being set to 0.0 in labels with no predicted samples. Use `zero_division` parameter to control this behavior.\n",
      "  _warn_prf(average, modifier, msg_start, len(result))\n",
      "c:\\Users\\Asus\\anaconda3\\lib\\site-packages\\sklearn\\metrics\\_classification.py:1318: UndefinedMetricWarning: Precision and F-score are ill-defined and being set to 0.0 in labels with no predicted samples. Use `zero_division` parameter to control this behavior.\n",
      "  _warn_prf(average, modifier, msg_start, len(result))\n"
     ]
    }
   ],
   "source": [
    "from sklearn.dummy import DummyClassifier\n",
    "from sklearn.metrics import accuracy_score, classification_report, confusion_matrix\n",
    "\n",
    "clf = DummyClassifier(strategy=\"most_frequent\")\n",
    "clf.fit(X_train, y_train)\n",
    "y_pred = clf.predict(X_test)\n",
    "print(\"\\n--- Dummy Classifier ---\")\n",
    "print(f\"Accuracy: {accuracy_score(y_test, y_pred)}\")\n",
    "print(\"\\nClassification Report:\\n\", classification_report(y_test, y_pred))"
   ]
  },
  {
   "cell_type": "code",
   "execution_count": null,
   "metadata": {},
   "outputs": [
    {
     "ename": "ModuleNotFoundError",
     "evalue": "No module named 'lightgbm'",
     "output_type": "error",
     "traceback": [
      "\u001b[1;31m---------------------------------------------------------------------------\u001b[0m",
      "\u001b[1;31mModuleNotFoundError\u001b[0m                       Traceback (most recent call last)",
      "\u001b[1;32m~\\AppData\\Local\\Temp\\ipykernel_16116\\3448515331.py\u001b[0m in \u001b[0;36m<module>\u001b[1;34m\u001b[0m\n\u001b[1;32m----> 1\u001b[1;33m \u001b[1;32mfrom\u001b[0m \u001b[0mlightgbm\u001b[0m \u001b[1;32mimport\u001b[0m \u001b[0mLGBMClassifier\u001b[0m\u001b[1;33m\u001b[0m\u001b[1;33m\u001b[0m\u001b[0m\n\u001b[0m\u001b[0;32m      2\u001b[0m \u001b[1;33m\u001b[0m\u001b[0m\n\u001b[0;32m      3\u001b[0m lgbm = LGBMClassifier(\n\u001b[0;32m      4\u001b[0m     \u001b[0mn_estimators\u001b[0m\u001b[1;33m=\u001b[0m\u001b[1;36m200\u001b[0m\u001b[1;33m,\u001b[0m\u001b[1;33m\u001b[0m\u001b[1;33m\u001b[0m\u001b[0m\n\u001b[0;32m      5\u001b[0m     \u001b[0mlearning_rate\u001b[0m\u001b[1;33m=\u001b[0m\u001b[1;36m0.1\u001b[0m\u001b[1;33m,\u001b[0m\u001b[1;33m\u001b[0m\u001b[1;33m\u001b[0m\u001b[0m\n",
      "\u001b[1;31mModuleNotFoundError\u001b[0m: No module named 'lightgbm'"
     ]
    }
   ],
   "source": [
    "from xgboost import XGBClassifier\n",
    "\n",
    "xgb = XGBClassifier(\n",
    "    n_estimators=200,\n",
    "    learning_rate=0.1,\n",
    "    max_depth=5,\n",
    "    random_state=0\n",
    ")\n",
    "xgb.fit(X_train, y_train)\n",
    "y_pred_xgb = xgb.predict(X_test)\n",
    "\n",
    "print(f\"XGBoost Accuracy: {accuracy_score(y_test, y_pred_xgb):.2f}\")\n",
    "print(classification_report(y_test, y_pred_xgb))"
   ]
  },
  {
   "cell_type": "code",
   "execution_count": 8,
   "metadata": {},
   "outputs": [
    {
     "name": "stdout",
     "output_type": "stream",
     "text": [
      "\n",
      "--- Random Forest Classifier ---\n",
      "Accuracy: 0.78\n",
      "\n",
      "Classification Report:\n",
      "               precision    recall  f1-score   support\n",
      "\n",
      "           0       0.50      0.75      0.60         4\n",
      "           1       0.75      0.75      0.75         4\n",
      "           2       0.60      0.75      0.67         4\n",
      "           3       1.00      0.50      0.67         4\n",
      "           4       0.75      0.75      0.75         4\n",
      "           5       1.00      0.50      0.67         4\n",
      "           6       1.00      0.75      0.86         4\n",
      "           7       1.00      1.00      1.00         4\n",
      "           8       1.00      1.00      1.00         4\n",
      "           9       0.67      1.00      0.80         4\n",
      "\n",
      "    accuracy                           0.78        40\n",
      "   macro avg       0.83      0.78      0.78        40\n",
      "weighted avg       0.83      0.78      0.78        40\n",
      "\n"
     ]
    }
   ],
   "source": [
    "from sklearn.ensemble import RandomForestClassifier\n",
    "# from sklearn.metrics import accuracy_score, classification_report\n",
    "\n",
    "# Initialize and train the model\n",
    "rf_clf = RandomForestClassifier(\n",
    "    random_state=0     # For reproducibility\n",
    ")\n",
    "rf_clf.fit(X_train, y_train)\n",
    "\n",
    "# Predict and evaluate\n",
    "y_pred_rf = rf_clf.predict(X_test)\n",
    "\n",
    "print(\"\\n--- Random Forest Classifier ---\")\n",
    "print(f\"Accuracy: {accuracy_score(y_test, y_pred_rf):.2f}\")  # Prints 2 decimal places\n",
    "print(\"\\nClassification Report:\\n\", classification_report(y_test, y_pred_rf))"
   ]
  },
  {
   "cell_type": "code",
   "execution_count": null,
   "metadata": {},
   "outputs": [
    {
     "name": "stdout",
     "output_type": "stream",
     "text": [
      "\n",
      "--- Random Forest Classifier ---\n",
      "Accuracy: 0.45\n",
      "\n",
      "Classification Report:\n",
      "               precision    recall  f1-score   support\n",
      "\n",
      "           0       0.25      0.50      0.33         4\n",
      "           1       0.67      0.50      0.57         4\n",
      "           2       0.50      0.50      0.50         4\n",
      "           3       0.00      0.00      0.00         4\n",
      "           4       0.60      0.75      0.67         4\n",
      "           5       0.20      0.25      0.22         4\n",
      "           6       1.00      0.75      0.86         4\n",
      "           7       0.40      0.50      0.44         4\n",
      "           8       0.50      0.25      0.33         4\n",
      "           9       1.00      0.50      0.67         4\n",
      "\n",
      "    accuracy                           0.45        40\n",
      "   macro avg       0.51      0.45      0.46        40\n",
      "weighted avg       0.51      0.45      0.46        40\n",
      "\n"
     ]
    }
   ],
   "source": [
    "\n",
    "# Initialize and train the model\n",
    "dt_clf = DecisionTreeClassifier(\n",
    "    random_state=0\n",
    ")\n",
    "dt_clf.fit(X_train, y_train)\n",
    "\n",
    "# Predict and evaluate\n",
    "y_pred_rf = dt_clf.predict(X_test)\n",
    "\n",
    "print(\"\\n--- Random Forest Classifier ---\")\n",
    "print(f\"Accuracy: {accuracy_score(y_test, y_pred_rf):.2f}\")\n",
    "print(\"\\nClassification Report:\\n\", classification_report(y_test, y_pred_rf))"
   ]
  }
 ],
 "metadata": {
  "kernelspec": {
   "display_name": "base",
   "language": "python",
   "name": "python3"
  },
  "language_info": {
   "codemirror_mode": {
    "name": "ipython",
    "version": 3
   },
   "file_extension": ".py",
   "mimetype": "text/x-python",
   "name": "python",
   "nbconvert_exporter": "python",
   "pygments_lexer": "ipython3",
   "version": "3.9.13"
  }
 },
 "nbformat": 4,
 "nbformat_minor": 2
}
